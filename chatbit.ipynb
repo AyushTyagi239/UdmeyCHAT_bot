# imports

import os
import glob
from dotenv import load_dotenv
import gradio as gr
from openai import OpenAI

# price is a factor for our company, so we're going to use a low cost model

MODEL = "qwen/qwen3-next-80b-a3b-thinking"

  # Load environment variables in a file called .env

load_dotenv(override=True)
os.environ['OPENAI_API_KEY'] = os.getenv('OPENAI_API_KEY', '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')
openai = OpenAI()

  
context = {} #creating a dictionary 

employees = glob.glob("knowledge-base/employees/*")

for employee in employees:
    name = employee.split(' ')[-1][:-3]
    doc = ""
    with open(employee, "r", encoding="utf-8") as f:
        doc = f.read()



  context.keys()


  products = glob.glob("knowledge-base/products/*")

for product in products: #path file to open 
    name = product.split(os.sep)[-1][:-3]
    doc = ""
    with open(product, "r", encoding="utf-8" #handle special character) as f:
        doc = f.read()
    context[name]=doc


  context.keys()

  system_message = "You are an expert in answering accurate questions about Insurellm, the Insurance Tech company. Give brief, accurate answers. If you don't know the answer, say so. Do not make anything up if you haven't been provided with relevant context."
    context[name]=doc


  def get_relevant_context(message):
    relevant_context = []
    for context_title, context_details in context.items():
        if context_title.lower() in message.lower():
            relevant_context.append(context_details)
    return relevant_context    
    #this is ver basic and brittle and breaks for case sensitive andmissing last name


  def add_context(message):
    relevant_context = get_relevant_context(message)
    if relevant_context:
        message += "\n\nThe following additional context might be relevant in answering this question:\n\n"
        for relevant in relevant_context:
            message += relevant + "\n\n"
    return message
    #this is only doing the string look up and not missing the trick 


  def chat(message, history):
    messages = [{"role": "system", "content": system_message}] + history #Ai_inst+history
    message = add_context(message) #adding info from knowlegdebase like name product detail
    messages.append({"role": "user", "content": message}) #improved user message 

    stream = openai.chat.completions.create(model=MODEL, messages=messages, stream=True)
    #sends the entire conversation to the AI and asks it to start generating a response piece by piece
    response = ""
    for chunk in stream:
        response += chunk.choices[0].delta.content or ''
        yield response


view = gr.ChatInterface(chat, type="messages").launch()
